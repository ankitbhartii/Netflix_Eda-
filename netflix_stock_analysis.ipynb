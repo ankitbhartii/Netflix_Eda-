{
 "cells": [
  {
   "cell_type": "code",
   "execution_count": null,
   "id": "9fd0061a",
   "metadata": {},
   "outputs": [],
   "source": [
    "# Import required libraries\n",
    "import pandas as pd\n",
    "import numpy as np\n",
    "import matplotlib.pyplot as plt\n",
    "import seaborn as sns\n",
    "\n",
    "# Set visualization style\n",
    "sns.set_style(\"whitegrid\")"
   ]
  },
  {
   "cell_type": "code",
   "execution_count": null,
   "id": "fb5886a9",
   "metadata": {},
   "outputs": [],
   "source": [
    "# Load Netflix stock history dataset\n",
    "df_stock = pd.read_csv(\"Netflix_stock_history.csv\", parse_dates=[\"Date\"])\n",
    "\n",
    "# Sort by Date for proper time series analysis\n",
    "df_stock = df_stock.sort_values(by=\"Date\")\n",
    "\n",
    "# Display basic dataset information\n",
    "df_stock.info()\n",
    "\n",
    "# Display the first few rows\n",
    "df_stock.head()\n",
    "\n",
    "# Check for missing values\n",
    "df_stock.isnull().sum()"
   ]
  },
  {
   "cell_type": "code",
   "execution_count": null,
   "id": "b32dab66",
   "metadata": {},
   "outputs": [],
   "source": [
    "# Summary statistics of stock prices\n",
    "df_stock.describe()"
   ]
  },
  {
   "cell_type": "code",
   "execution_count": null,
   "id": "21ade576",
   "metadata": {},
   "outputs": [],
   "source": [
    "plt.figure(figsize=(12, 6))\n",
    "plt.plot(df_stock[\"Date\"], df_stock[\"Close\"], label=\"Closing Price\", color=\"blue\", linewidth=2)\n",
    "plt.xlabel(\"Year\")\n",
    "plt.ylabel(\"Stock Price (USD)\")\n",
    "plt.title(\"Netflix Stock Closing Price Over Time\")\n",
    "plt.legend()\n",
    "plt.grid(True)\n",
    "plt.show()"
   ]
  },
  {
   "cell_type": "code",
   "execution_count": null,
   "id": "82ded4db",
   "metadata": {},
   "outputs": [],
   "source": [
    "plt.figure(figsize=(12, 6))\n",
    "plt.plot(df_stock[\"Date\"], df_stock[\"Volume\"], label=\"Trading Volume\", color=\"green\", linewidth=2)\n",
    "plt.xlabel(\"Year\")\n",
    "plt.ylabel(\"Volume (Shares Traded)\")\n",
    "plt.title(\"Netflix Stock Trading Volume Over Time\")\n",
    "plt.legend()\n",
    "plt.grid(True)\n",
    "plt.show()"
   ]
  },
  {
   "cell_type": "code",
   "execution_count": null,
   "id": "4d74f6f0",
   "metadata": {},
   "outputs": [],
   "source": [
    "df_stock[\"Rolling_Avg\"] = df_stock[\"Close\"].rolling(window=50).mean()\n",
    "\n",
    "plt.figure(figsize=(12, 6))\n",
    "plt.plot(df_stock[\"Date\"], df_stock[\"Close\"], label=\"Closing Price\", color=\"blue\", alpha=0.5)\n",
    "plt.plot(df_stock[\"Date\"], df_stock[\"Rolling_Avg\"], label=\"50-day Rolling Average\", color=\"red\", linewidth=2)\n",
    "plt.xlabel(\"Year\")\n",
    "plt.ylabel(\"Stock Price (USD)\")\n",
    "plt.title(\"Netflix Stock Price with Rolling Average\")\n",
    "plt.legend()\n",
    "plt.grid(True)\n",
    "plt.show()"
   ]
  },
  {
   "cell_type": "code",
   "execution_count": null,
   "id": "31a1505c",
   "metadata": {},
   "outputs": [],
   "source": [
    "df_stock[\"Daily_Return\"] = df_stock[\"Close\"].pct_change() * 100\n",
    "\n",
    "plt.figure(figsize=(12, 6))\n",
    "plt.plot(df_stock[\"Date\"], df_stock[\"Daily_Return\"], label=\"Daily Return\", color=\"purple\", alpha=0.7)\n",
    "plt.xlabel(\"Year\")\n",
    "plt.ylabel(\"Daily Return (%)\")\n",
    "plt.title(\"Netflix Stock Daily Return (Volatility)\")\n",
    "plt.legend()\n",
    "plt.grid(True)\n",
    "plt.show()"
   ]
  },
  {
   "cell_type": "code",
   "execution_count": null,
   "id": "8d8e6246",
   "metadata": {},
   "outputs": [],
   "source": [
    "correlation_matrix = df_stock[[\"Open\", \"High\", \"Low\", \"Close\", \"Volume\"]].corr()\n",
    "\n",
    "plt.figure(figsize=(8, 6))\n",
    "sns.heatmap(correlation_matrix, annot=True, cmap=\"coolwarm\", linewidths=0.5)\n",
    "plt.title(\"Correlation Matrix of Stock Metrics\")\n",
    "plt.show()"
   ]
  },
  {
   "cell_type": "code",
   "execution_count": null,
   "id": "d630e23b",
   "metadata": {},
   "outputs": [],
   "source": [
    "df_splits = df_stock[df_stock[\"Stock Splits\"] > 0]\n",
    "\n",
    "plt.figure(figsize=(12, 6))\n",
    "plt.plot(df_stock[\"Date\"], df_stock[\"Close\"], label=\"Closing Price\", color=\"blue\", linewidth=2)\n",
    "plt.scatter(df_splits[\"Date\"], df_splits[\"Close\"], color=\"red\", label=\"Stock Splits\", marker=\"o\", s=100)\n",
    "plt.xlabel(\"Year\")\n",
    "plt.ylabel(\"Stock Price (USD)\")\n",
    "plt.title(\"Netflix Stock Price with Stock Splits\")\n",
    "plt.legend()\n",
    "plt.grid(True)\n",
    "plt.show()\n",
    "\n",
    "df_splits"
   ]
  },
  {
   "cell_type": "code",
   "execution_count": null,
   "id": "fac9826d",
   "metadata": {},
   "outputs": [],
   "source": [
    "df_stock[\"YearMonth\"] = df_stock[\"Date\"].dt.to_period(\"M\")\n",
    "monthly_avg = df_stock.groupby(\"YearMonth\")[\"Close\"].mean()\n",
    "\n",
    "plt.figure(figsize=(12, 6))\n",
    "plt.plot(monthly_avg.index.astype(str), monthly_avg.values, label=\"Monthly Avg Closing Price\", color=\"brown\")\n",
    "plt.xticks(rotation=45)\n",
    "plt.xlabel(\"Year-Month\")\n",
    "plt.ylabel(\"Avg Closing Price (USD)\")\n",
    "plt.title(\"Monthly Average Closing Price of Netflix Stock\")\n",
    "plt.legend()\n",
    "plt.grid(True)\n",
    "plt.show()"
   ]
  },
  {
   "cell_type": "code",
   "execution_count": null,
   "id": "f38134de",
   "metadata": {},
   "outputs": [],
   "source": [
    "df_stock[\"EMA_12\"] = df_stock[\"Close\"].ewm(span=12, adjust=False).mean()\n",
    "df_stock[\"EMA_26\"] = df_stock[\"Close\"].ewm(span=26, adjust=False).mean()\n",
    "df_stock[\"MACD\"] = df_stock[\"EMA_12\"] - df_stock[\"EMA_26\"]\n",
    "df_stock[\"Signal_Line\"] = df_stock[\"MACD\"].ewm(span=9, adjust=False).mean()\n",
    "\n",
    "plt.figure(figsize=(12, 6))\n",
    "plt.plot(df_stock[\"Date\"], df_stock[\"MACD\"], label=\"MACD\", color=\"blue\")\n",
    "plt.plot(df_stock[\"Date\"], df_stock[\"Signal_Line\"], label=\"Signal Line\", color=\"red\")\n",
    "plt.xlabel(\"Year\")\n",
    "plt.ylabel(\"MACD Value\")\n",
    "plt.title(\"MACD Indicator for Netflix Stock\")\n",
    "plt.legend()\n",
    "plt.grid(True)\n",
    "plt.show()"
   ]
  },
  {
   "cell_type": "code",
   "execution_count": null,
   "id": "d6c693f7",
   "metadata": {},
   "outputs": [],
   "source": [
    "df_stock[\"SMA_20\"] = df_stock[\"Close\"].rolling(window=20).mean()\n",
    "df_stock[\"Upper_Band\"] = df_stock[\"SMA_20\"] + (df_stock[\"Close\"].rolling(window=20).std() * 2)\n",
    "df_stock[\"Lower_Band\"] = df_stock[\"SMA_20\"] - (df_stock[\"Close\"].rolling(window=20).std() * 2)\n",
    "\n",
    "plt.figure(figsize=(12, 6))\n",
    "plt.plot(df_stock[\"Date\"], df_stock[\"Close\"], label=\"Closing Price\", color=\"blue\")\n",
    "plt.plot(df_stock[\"Date\"], df_stock[\"SMA_20\"], label=\"20-Day SMA\", color=\"black\")\n",
    "plt.plot(df_stock[\"Date\"], df_stock[\"Upper_Band\"], label=\"Upper Band\", color=\"green\", linestyle=\"dashed\")\n",
    "plt.plot(df_stock[\"Date\"], df_stock[\"Lower_Band\"], label=\"Lower Band\", color=\"red\", linestyle=\"dashed\")\n",
    "plt.xlabel(\"Year\")\n",
    "plt.ylabel(\"Stock Price (USD)\")\n",
    "plt.title(\"Bollinger Bands for Netflix Stock\")\n",
    "plt.legend()\n",
    "plt.grid(True)\n",
    "plt.show()"
   ]
  }
 ],
 "metadata": {},
 "nbformat": 4,
 "nbformat_minor": 5
}
